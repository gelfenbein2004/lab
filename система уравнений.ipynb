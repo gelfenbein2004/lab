{
  "nbformat": 4,
  "nbformat_minor": 0,
  "metadata": {
    "colab": {
      "provenance": [],
      "authorship_tag": "ABX9TyMrEWS2Ih3y3JVGknbZYtJC",
      "include_colab_link": true
    },
    "kernelspec": {
      "name": "python3",
      "display_name": "Python 3"
    },
    "language_info": {
      "name": "python"
    }
  },
  "cells": [
    {
      "cell_type": "markdown",
      "metadata": {
        "id": "view-in-github",
        "colab_type": "text"
      },
      "source": [
        "<a href=\"https://colab.research.google.com/github/gelfenbein2004/lab/blob/main/%D1%81%D0%B8%D1%81%D1%82%D0%B5%D0%BC%D0%B0%20%D1%83%D1%80%D0%B0%D0%B2%D0%BD%D0%B5%D0%BD%D0%B8%D0%B9.ipynb\" target=\"_parent\"><img src=\"https://colab.research.google.com/assets/colab-badge.svg\" alt=\"Open In Colab\"/></a>"
      ]
    },
    {
      "cell_type": "code",
      "execution_count": 2,
      "metadata": {
        "colab": {
          "base_uri": "https://localhost:8080/"
        },
        "id": "w_wdIF21rMJ6",
        "outputId": "576bc44b-d64a-4d26-94d6-d01c283fb40e"
      },
      "outputs": [
        {
          "output_type": "stream",
          "name": "stdout",
          "text": [
            "[ 5.03194397 -3.04464044]\n"
          ]
        }
      ],
      "source": [
        "import numpy as np\n",
        "from scipy.optimize import fsolve\n",
        "def f(p):\n",
        "  x,y=p\n",
        "  return(x**2+x*y-10, x*y+y**2+np.sin(x)+7)\n",
        "z=fsolve(f,(1,2))\n",
        "print(z)"
      ]
    }
  ]
}